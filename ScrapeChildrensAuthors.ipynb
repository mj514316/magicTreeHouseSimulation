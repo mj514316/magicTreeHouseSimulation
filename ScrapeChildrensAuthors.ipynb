{
 "cells": [
  {
   "cell_type": "code",
   "execution_count": 27,
   "metadata": {},
   "outputs": [],
   "source": [
    "import wikipedia"
   ]
  },
  {
   "cell_type": "markdown",
   "metadata": {},
   "source": [
    "# Search forChildrens Authors\n",
    "First we'll search for the term childrens author and see if there is a good starting page"
   ]
  },
  {
   "cell_type": "code",
   "execution_count": 2,
   "metadata": {},
   "outputs": [],
   "source": [
    "result = wikipedia.search('Childrens Author')"
   ]
  },
  {
   "cell_type": "markdown",
   "metadata": {},
   "source": [
    "Result shows that the first page is childrens literature, then a bunch of authors. Lets pull the childrens literature page and see if we can use it as a starting point"
   ]
  },
  {
   "cell_type": "code",
   "execution_count": 3,
   "metadata": {},
   "outputs": [
    {
     "data": {
      "text/plain": [
       "[\"Children's literature\",\n",
       " 'Sam Angus (writer)',\n",
       " \"Alvin Schwartz (children's author)\",\n",
       " \"Douglas Evans (children's author)\",\n",
       " \"Ruth White (children's author)\",\n",
       " 'Author! Author! (film)',\n",
       " \"Margaret Mayo (children's author)\",\n",
       " \"Al Perkins (children's author)\",\n",
       " \"John Lawson (children's author)\",\n",
       " 'Roald Dahl']"
      ]
     },
     "execution_count": 3,
     "metadata": {},
     "output_type": "execute_result"
    }
   ],
   "source": [
    "result"
   ]
  },
  {
   "cell_type": "code",
   "execution_count": 4,
   "metadata": {},
   "outputs": [],
   "source": [
    "lit = wikipedia.page(\"Children's literature\")"
   ]
  },
  {
   "cell_type": "markdown",
   "metadata": {},
   "source": [
    "We can see what other pages the _Children's literature_ page has in it by checking out links. Conveniently these are the names of wikipedia pages."
   ]
  },
  {
   "cell_type": "code",
   "execution_count": 30,
   "metadata": {},
   "outputs": [
    {
     "data": {
      "text/plain": [
       "['ALA Editions',\n",
       " 'A Book of Giants',\n",
       " 'A Little Pretty Pocket-Book',\n",
       " 'Abanindranath Tagore',\n",
       " 'Acronym and initialism',\n",
       " 'Adventure book',\n",
       " 'Adventurer',\n",
       " 'Africa',\n",
       " 'African American',\n",
       " 'After the First Death',\n",
       " 'Alan Garner',\n",
       " 'Aleksandr Afanasyev',\n",
       " 'Alex Rider',\n",
       " 'Alexander Belyayev']"
      ]
     },
     "execution_count": 30,
     "metadata": {},
     "output_type": "execute_result"
    }
   ],
   "source": [
    "lit.links[1:15]"
   ]
  },
  {
   "cell_type": "code",
   "execution_count": 31,
   "metadata": {},
   "outputs": [
    {
     "name": "stdout",
     "output_type": "stream",
     "text": [
      "698\n"
     ]
    }
   ],
   "source": [
    "print(len(lit.links))"
   ]
  },
  {
   "cell_type": "markdown",
   "metadata": {},
   "source": [
    "## Let The Scraping Begin!\n",
    "Now that we have a list of pages that will get us what we want, we'll try to scrap all the content.\n",
    "Scraping can introduce a burden on the website we are scraping. If you hit the website with too many requests in too short a time, it can cause websites slowdowns. We'll set the rate limit here so there is a breif pause before it tries to grab the data."
   ]
  },
  {
   "cell_type": "code",
   "execution_count": 32,
   "metadata": {},
   "outputs": [
    {
     "name": "stdout",
     "output_type": "stream",
     "text": [
      "Wall time: 0 ns\n"
     ]
    }
   ],
   "source": [
    "%%time\n",
    "wikipedia.set_rate_limiting(True)"
   ]
  },
  {
   "cell_type": "markdown",
   "metadata": {},
   "source": [
    "698 pages should fit into memory pretty easily. if you are scraping a bunch, you'll need to periodically write the results to disk so you don't run out of memory."
   ]
  },
  {
   "cell_type": "code",
   "execution_count": 35,
   "metadata": {},
   "outputs": [
    {
     "ename": "PageError",
     "evalue": "Page id \"behari lal pura\" does not match any pages. Try another id!",
     "output_type": "error",
     "traceback": [
      "\u001b[1;31m---------------------------------------------------------------------------\u001b[0m",
      "\u001b[1;31mPageError\u001b[0m                                 Traceback (most recent call last)",
      "\u001b[1;32m<timed exec>\u001b[0m in \u001b[0;36m<module>\u001b[1;34m()\u001b[0m\n",
      "\u001b[1;32m<timed exec>\u001b[0m in \u001b[0;36m<listcomp>\u001b[1;34m(.0)\u001b[0m\n",
      "\u001b[1;32mC:\\ProgramData\\Anaconda3\\lib\\site-packages\\wikipedia\\wikipedia.py\u001b[0m in \u001b[0;36mpage\u001b[1;34m(title, pageid, auto_suggest, redirect, preload)\u001b[0m\n\u001b[0;32m    274\u001b[0m         \u001b[1;31m# if there is no suggestion or search results, the page doesn't exist\u001b[0m\u001b[1;33m\u001b[0m\u001b[1;33m\u001b[0m\u001b[0m\n\u001b[0;32m    275\u001b[0m         \u001b[1;32mraise\u001b[0m \u001b[0mPageError\u001b[0m\u001b[1;33m(\u001b[0m\u001b[0mtitle\u001b[0m\u001b[1;33m)\u001b[0m\u001b[1;33m\u001b[0m\u001b[0m\n\u001b[1;32m--> 276\u001b[1;33m     \u001b[1;32mreturn\u001b[0m \u001b[0mWikipediaPage\u001b[0m\u001b[1;33m(\u001b[0m\u001b[0mtitle\u001b[0m\u001b[1;33m,\u001b[0m \u001b[0mredirect\u001b[0m\u001b[1;33m=\u001b[0m\u001b[0mredirect\u001b[0m\u001b[1;33m,\u001b[0m \u001b[0mpreload\u001b[0m\u001b[1;33m=\u001b[0m\u001b[0mpreload\u001b[0m\u001b[1;33m)\u001b[0m\u001b[1;33m\u001b[0m\u001b[0m\n\u001b[0m\u001b[0;32m    277\u001b[0m   \u001b[1;32melif\u001b[0m \u001b[0mpageid\u001b[0m \u001b[1;32mis\u001b[0m \u001b[1;32mnot\u001b[0m \u001b[1;32mNone\u001b[0m\u001b[1;33m:\u001b[0m\u001b[1;33m\u001b[0m\u001b[0m\n\u001b[0;32m    278\u001b[0m     \u001b[1;32mreturn\u001b[0m \u001b[0mWikipediaPage\u001b[0m\u001b[1;33m(\u001b[0m\u001b[0mpageid\u001b[0m\u001b[1;33m=\u001b[0m\u001b[0mpageid\u001b[0m\u001b[1;33m,\u001b[0m \u001b[0mpreload\u001b[0m\u001b[1;33m=\u001b[0m\u001b[0mpreload\u001b[0m\u001b[1;33m)\u001b[0m\u001b[1;33m\u001b[0m\u001b[0m\n",
      "\u001b[1;32mC:\\ProgramData\\Anaconda3\\lib\\site-packages\\wikipedia\\wikipedia.py\u001b[0m in \u001b[0;36m__init__\u001b[1;34m(self, title, pageid, redirect, preload, original_title)\u001b[0m\n\u001b[0;32m    297\u001b[0m       \u001b[1;32mraise\u001b[0m \u001b[0mValueError\u001b[0m\u001b[1;33m(\u001b[0m\u001b[1;34m\"Either a title or a pageid must be specified\"\u001b[0m\u001b[1;33m)\u001b[0m\u001b[1;33m\u001b[0m\u001b[0m\n\u001b[0;32m    298\u001b[0m \u001b[1;33m\u001b[0m\u001b[0m\n\u001b[1;32m--> 299\u001b[1;33m     \u001b[0mself\u001b[0m\u001b[1;33m.\u001b[0m\u001b[0m__load\u001b[0m\u001b[1;33m(\u001b[0m\u001b[0mredirect\u001b[0m\u001b[1;33m=\u001b[0m\u001b[0mredirect\u001b[0m\u001b[1;33m,\u001b[0m \u001b[0mpreload\u001b[0m\u001b[1;33m=\u001b[0m\u001b[0mpreload\u001b[0m\u001b[1;33m)\u001b[0m\u001b[1;33m\u001b[0m\u001b[0m\n\u001b[0m\u001b[0;32m    300\u001b[0m \u001b[1;33m\u001b[0m\u001b[0m\n\u001b[0;32m    301\u001b[0m     \u001b[1;32mif\u001b[0m \u001b[0mpreload\u001b[0m\u001b[1;33m:\u001b[0m\u001b[1;33m\u001b[0m\u001b[0m\n",
      "\u001b[1;32mC:\\ProgramData\\Anaconda3\\lib\\site-packages\\wikipedia\\wikipedia.py\u001b[0m in \u001b[0;36m__load\u001b[1;34m(self, redirect, preload)\u001b[0m\n\u001b[0;32m    343\u001b[0m     \u001b[1;32mif\u001b[0m \u001b[1;34m'missing'\u001b[0m \u001b[1;32min\u001b[0m \u001b[0mpage\u001b[0m\u001b[1;33m:\u001b[0m\u001b[1;33m\u001b[0m\u001b[0m\n\u001b[0;32m    344\u001b[0m       \u001b[1;32mif\u001b[0m \u001b[0mhasattr\u001b[0m\u001b[1;33m(\u001b[0m\u001b[0mself\u001b[0m\u001b[1;33m,\u001b[0m \u001b[1;34m'title'\u001b[0m\u001b[1;33m)\u001b[0m\u001b[1;33m:\u001b[0m\u001b[1;33m\u001b[0m\u001b[0m\n\u001b[1;32m--> 345\u001b[1;33m         \u001b[1;32mraise\u001b[0m \u001b[0mPageError\u001b[0m\u001b[1;33m(\u001b[0m\u001b[0mself\u001b[0m\u001b[1;33m.\u001b[0m\u001b[0mtitle\u001b[0m\u001b[1;33m)\u001b[0m\u001b[1;33m\u001b[0m\u001b[0m\n\u001b[0m\u001b[0;32m    346\u001b[0m       \u001b[1;32melse\u001b[0m\u001b[1;33m:\u001b[0m\u001b[1;33m\u001b[0m\u001b[0m\n\u001b[0;32m    347\u001b[0m         \u001b[1;32mraise\u001b[0m \u001b[0mPageError\u001b[0m\u001b[1;33m(\u001b[0m\u001b[0mpageid\u001b[0m\u001b[1;33m=\u001b[0m\u001b[0mself\u001b[0m\u001b[1;33m.\u001b[0m\u001b[0mpageid\u001b[0m\u001b[1;33m)\u001b[0m\u001b[1;33m\u001b[0m\u001b[0m\n",
      "\u001b[1;31mPageError\u001b[0m: Page id \"behari lal pura\" does not match any pages. Try another id!"
     ]
    }
   ],
   "source": [
    "%%time\n",
    "bunchOfPages = [wikipedia.page(p).content for p in lit.links]"
   ]
  },
  {
   "cell_type": "code",
   "execution_count": 34,
   "metadata": {},
   "outputs": [
    {
     "data": {
      "text/plain": [
       "10"
      ]
     },
     "execution_count": 34,
     "metadata": {},
     "output_type": "execute_result"
    }
   ],
   "source": [
    "len(bunchOfPages)"
   ]
  },
  {
   "cell_type": "code",
   "execution_count": 23,
   "metadata": {},
   "outputs": [],
   "source": [
    "import json\n",
    "with open('littleList.json', 'w') as outfile:\n",
    "    json.dump(BunchOfPages, outfile)"
   ]
  },
  {
   "cell_type": "code",
   "execution_count": 24,
   "metadata": {},
   "outputs": [],
   "source": [
    "with open('littleList.json') as infile:\n",
    "    loaded = json.load(infile)"
   ]
  },
  {
   "cell_type": "code",
   "execution_count": 26,
   "metadata": {},
   "outputs": [
    {
     "data": {
      "text/plain": [
       "'Alan Alexander Milne (; 18 January 1882 – 31 January 1956) was a British author, best known for his books about the teddy bear Winnie-the-Pooh and for various poems. Milne was a noted writer, primarily as a playwright, before the huge success of Pooh overshadowed all his previous work. Milne served in both World Wars, joining the British Army in World War I, and was a captain of the British Home Guard in World War II.\\n\\n\\n== Biography ==\\nAlan Alexander Milne was born in Kilburn, London to parents John Vine Milne, who was born in Jamaica,  and Sarah Marie Milne (née Heginbotham) and grew up at Henley House School, 6/7 Mortimer Road (now Crescent), Kilburn, a small public school run by his father. One of his teachers was H. G. Wells, who taught there in 1889–90.  Milne attended Westminster School and Trinity College, Cambridge  where he studied on a mathematics scholarship, graduating with a B.A. in Mathematics in 1903.  He edited and wrote for Granta, a student magazine.  He collaborated with his brother Kenneth and their articles appeared over the initials AKM. Milne\\'s work came to the attention of the leading British humour magazine Punch, where Milne was to become a contributor and later an assistant editor. Milne played for the amateur English cricket team the Allahakbarries alongside authors J. M. Barrie and Arthur Conan Doyle.Milne joined the British Army in World War I and served as an officer in the Royal Warwickshire Regiment and later, after a debilitating illness, the Royal Corps of Signals. He was commissioned into the 4th Battalion, Royal Warwickshire Regiment on 1 February 1915 as a second lieutenant (on probation). His commission was confirmed on 20 December 1915. On 7 July 1916, he was injured while serving in the Battle of the Somme and invalided back to England. Having recuperated, he was recruited into Military Intelligence to write propaganda articles for MI7 (b) between 1916 and 1918. He was discharged on 14 February 1919, and settled in Mallord Street, Chelsea. He relinquished his commission on 19 February 1920, retaining the rank of lieutenant.After the war, he wrote a denunciation of war titled Peace with Honour (1934), which he retracted somewhat with 1940\\'s War with Honour. During World War II, Milne was one of the most prominent critics of fellow English writer P. G. Wodehouse, who was captured at his country home in France by the Nazis and imprisoned for a year. Wodehouse made radio broadcasts about his internment, which were broadcast from Berlin. Although the light-hearted broadcasts made fun of the Germans, Milne accused Wodehouse of committing an act of near treason by cooperating with his country\\'s enemy. Wodehouse got some revenge on his former friend (e.g., in The Mating Season) by creating fatuous parodies of the Christopher Robin poems in some of his later stories, and claiming that Milne \"was probably jealous of all other writers.... But I loved his stuff.\"Milne married Dorothy \"Daphne\" de Sélincourt in 1913 and their son Christopher Robin Milne was born in 1920.  In 1925, Milne bought a country home, Cotchford Farm, in Hartfield, East Sussex.During World War II, Milne was Captain of the British Home Guard in Hartfield & Forest Row, insisting on being plain \"Mr. Milne\" to the members of his platoon. He retired to the farm after a stroke and brain surgery in 1952 left him an invalid, and by August 1953 \"he seemed very old and disenchanted.\"  Milne died in January 1956, aged 74.\\n\\n\\n== Literary career ==\\n\\n\\n=== 1903 to 1925 ===\\n\\nAfter graduating from Cambridge in 1903, A. A. Milne contributed humorous verse and whimsical essays to Punch, joining the staff in 1906 and becoming an assistant editor.During this period he published 18 plays and three novels, including the murder mystery The Red House Mystery (1922). His son was born in August 1920 and in 1924 Milne produced a collection of children\\'s poems, When We Were Very Young, which were illustrated by Punch staff cartoonist E. H. Shepard.  A collection of short stories for children A Gallery of Children, and other stories that became part of the Winnie-the-Pooh books, were first published in 1925.\\nMilne was an early screenwriter for the nascent British film industry, writing four stories filmed in 1920 for the company Minerva Films (founded in 1920 by the actor Leslie Howard and his friend and story editor Adrian Brunel). These were The Bump, starring Aubrey Smith; Twice Two; Five Pound Reward; and Bookworms. Some of these films survive in the archives of the British Film Institute. Milne had met Howard when the actor starred in Milne\\'s play Mr Pim Passes By in London.Looking back on this period (in 1926), Milne observed that when he told his agent that he was going to write a detective story, he was told that what the country wanted from a \"Punch humorist\" was a humorous story; when two years later he said he was writing nursery rhymes, his agent and publisher were convinced he should write another detective story; and after another two years, he was being told that writing a detective story would be in the worst of taste given the demand for children\\'s books. He concluded that \"the only excuse which I have yet discovered for writing anything is that I want to write it; and I should be as proud to be delivered of a Telephone Directory con amore as I should be ashamed to create a Blank Verse Tragedy at the bidding of others.\"\\n\\n\\n=== 1926 to 1928 ===\\n\\nMilne is most famous for his two Pooh books about a boy named Christopher Robin after his son, Christopher Robin Milne, and various characters inspired by his son\\'s stuffed animals, most notably the bear named Winnie-the-Pooh. Christopher Robin Milne\\'s stuffed bear, originally named \"Edward,\"  was renamed \"Winnie\" after a Canadian black bear named Winnie (after Winnipeg), which was used as a military mascot in World War I, and left to London Zoo during the war. \"The pooh\" comes from a swan the young Milne named \"Pooh.\" E. H. Shepard illustrated the original Pooh books, using his own son\\'s teddy, Growler (\"a magnificent bear\"), as the model. The rest of Christopher Robin Milne\\'s toys, Piglet, Eeyore, Kanga, Roo and Tigger, were incorporated into A. A. Milne\\'s stories, and two more characters – Rabbit and Owl – were created by Milne\\'s imagination. Christopher Robin Milne\\'s own toys are now on display in New York where 750,000 people visit them every year.\\n\\nThe fictional Hundred Acre Wood of the Pooh stories derives from Five Hundred Acre Wood in Ashdown Forest in East Sussex, South East England, where the Pooh stories were set. Milne lived on the northern edge of the forest at Cotchford Farm, 51.090°N 0.107°E\\ufeff / 51.090; 0.107, and took his son walking there. E. H. Shepard drew on the landscapes of Ashdown Forest as inspiration for many of the illustrations he provided for the Pooh books. The adult Christopher Robin commented: \"Pooh\\'s Forest and Ashdown Forest are identical.\"  Popular tourist locations at Ashdown Forest include: Galleon\\'s Lap, The Enchanted Place, the Heffalump Trap and Lone Pine, Eeyore’s Sad and Gloomy Place, and the wooden Pooh Bridge where Pooh and Piglet invented Poohsticks.Not yet known as Pooh, he made his first appearance in a poem, \"Teddy Bear,\" published in Punch magazine in February 1924 and republished in When We Were Very Young. Pooh first appeared in the London Evening News on Christmas Eve, 1925, in a story called \"The Wrong Sort Of Bees.\"  Winnie-the-Pooh was published in 1926, followed by The House at Pooh Corner in 1928. A second collection of nursery rhymes, Now We Are Six, was published in 1927. All four books were illustrated by E. H. Shepard. Milne also published four plays in this period. He also \"gallantly stepped forward\" to contribute a quarter of the costs of dramatising P. G. Wodehouse\\'s A Damsel in Distress. The World of Pooh won the Lewis Carroll Shelf Award in 1958.\\n\\n\\n=== 1929 onwards ===\\nThe success of his children\\'s books was to become a source of considerable annoyance to Milne, whose self-avowed aim was to write whatever he pleased and who had, until then, found a ready audience for each change of direction: he had freed pre-war Punch from its ponderous facetiousness; he had made a considerable reputation as a playwright (like his idol J. M. Barrie) on both sides of the Atlantic; he had produced a witty piece of detective writing in The Red House Mystery (although this was severely criticised by Raymond Chandler for the implausibility of its plot). But once Milne had, in his own words, \"said goodbye to all that in 70,000 words\" (the approximate length of his four principal children\\'s books), he had no intention of producing any reworkings lacking in originality, given that one of the sources of inspiration, his son, was growing older.\\nAnother reason Milne stopped writing children\\'s books, and especially about Winnie-the-Pooh, was that he felt \"amazement and disgust\" over the fame his son was exposed to, and said that \"I feel that the legal Christopher Robin has already had more publicity than I want for him. I do not want CR Milne to ever wish that his name were Charles Robert.\"In his literary home, Punch, where the When We Were Very Young verses had first appeared, Methuen continued to publish whatever Milne wrote, including the long poem \"The Norman Church\" and an assembly of articles entitled Year In, Year Out (which Milne likened to a benefit night for the author).In 1930, Milne adapted Kenneth Grahame\\'s novel The Wind in the Willows for the stage as Toad of Toad Hall. The title was an implicit admission that such chapters as Chapter 7, \"The Piper at the Gates of Dawn,\" could not survive translation to the theatre. A special introduction written by Milne is included in some editions of Grahame\\'s novel.Milne and his wife became estranged from their son, who came to resent what he saw as his father\\'s exploitation of his childhood and came to hate the books that had thrust him into the public eye. Marrying his first cousin, Lesley de Sélincourt, distanced Christopher still further from his parents – Lesley\\'s father and Christopher\\'s mother hadn\\'t spoken to each other for 30 years.\\n\\n\\n== Legacy and commemoration ==\\n\\nThe rights to A. A. Milne\\'s Pooh books were left to four beneficiaries: his family, the Royal Literary Fund, Westminster School and the Garrick Club. After Milne\\'s death in 1956, one week and six days after his 74th birthday, his widow sold her rights to the Pooh characters to Stephen Slesinger, whose widow sold the rights after Slesinger\\'s death to the Walt Disney Company, which has made many Pooh cartoon movies, a Disney Channel television show, as well as Pooh-related merchandise. In 2001, the other beneficiaries sold their interest in the estate to the Disney Corporation for $350m. Previously Disney had been paying twice-yearly royalties to these beneficiaries. The estate of E. H. Shepard also received a sum in the deal. The UK copyright on the text of the original Winnie the Pooh books expires on 1 January 2027;  at the beginning of the year after the 70th anniversary of the author\\'s death (PMA-70), and has already expired in those countries with a PMA-50 rule.  This applies to all of Milne\\'s works except those first published posthumously.  The illustrations in the Pooh books will remain under copyright until the same amount of time has passed, after the illustrator\\'s death; in the UK, this will be on 1 January 2047.  In the United States, copyright will not expire until 95 years after publication for each of Milne\\'s books first published before 1978, but this includes the illustrations.\\nIn 2008, a collection of original illustrations featuring Winnie-the-Pooh and his animal friends sold for more than £1.2 million at auction in Sotheby\\'s, London. Forbes magazine ranked Winnie the Pooh the most valuable fictional character in 2002; Winnie the Pooh merchandising products alone had annual sales of more than $5.9 billion. In 2005, Winnie the Pooh generated $6 billion, a figure surpassed by only Mickey Mouse.\\n\\nA memorial plaque in Ashdown Forest, unveiled by Christopher Robin in 1979, commemorates the work of A. A. Milne and Shepard in creating the world of Pooh. Milne once wrote of Ashdown Forest: \"In that enchanted place on the top of the forest a little boy and his bear will always be playing.\" In 2003, Winnie the Pooh was listed at number 7 on the BBC\\'s poll The Big Read which determined the UK\\'s \"best-loved novels\" of all time. In 2006, Winnie the Pooh received a star on the Hollywood Walk of Fame, marking the 80th birthday of Milne\\'s creation. That same year a UK poll saw Winnie the Pooh voted onto the list of icons of England.Marking the 90th anniversary of Milne\\'s creation of the character, and the 90th birthday of Elizabeth II, in 2016 a new story sees Winnie the Pooh meet the Queen at Buckingham Palace. The illustrated and audio adventure is titled Winnie-the-Pooh Meets the Queen, and has been narrated by actor Jim Broadbent. Also in 2016, a new character, a Penguin, was unveiled in The Best Bear in All the World, which was inspired by a long-lost photograph of Milne and his son Christopher with a toy penguin.Several of Milne\\'s children\\'s poems were set to music by the composer Harold Fraser-Simson. His poems have been parodied many times, including with the books When We Were Rather Older and Now We Are Sixty. The 1963 film The King\\'s Breakfast was based on Milne\\'s poem of the same name.An exhibition entitled \"Winnie-the-Pooh: Exploring a Classic\" appeared at the V & A from 9 December 2017 to 8 April 2018.\\n\\n\\n== Archive ==\\nThe bulk of A. A. Milne\\'s papers are housed at the Harry Ransom Center at the University of Texas at Austin. The collection, established at the center in 1964, consists of manuscript drafts and fragments for over 150 of Milne\\'s works, as well as correspondence, legal documents, genealogical records, and some personal effects. The library division holds several books formerly belonging to Milne and his wife Dorothy. The Harry Ransom Center also has small collections of correspondence from Christopher Robin Milne and Milne\\'s frequent illustrator Ernest Shepard.\\nThe original manuscripts for Winnie the Pooh and The House at Pooh Corner are archived separately at Trinity College Library, Cambridge.\\n\\n\\n== Religious views ==\\nMilne did not speak out much on the subject of religion, although he used religious terms to explain his decision, while remaining a pacifist, to join the British Home Guard:  \"In fighting Hitler,\" he wrote, \"we are truly fighting the Devil, the Anti-Christ ... Hitler was a crusader against God.\"His best known comment on the subject was recalled on his death:\\n\\nThe Old Testament is responsible for more atheism, agnosticism, disbelief—call it what you will—than any book ever written; it has emptied more churches than all the counter-attractions of cinema, motor bicycle and golf course.\\nHe wrote in the poem \"Explained\":\\n\\nHe also wrote in the poem \"Vespers\":\\n\\n\\n== Works ==\\n\\n\\n=== Novels ===\\nLovers in London (1905. Some consider this more of a short story collection; Milne did not like it and considered The Day\\'s Play as his first book.)\\nOnce on a Time (1917)\\nMr. Pim (1921) (A novelisation of his 1919 play Mr. Pim Passes By)\\nThe Red House Mystery (1922)\\nTwo People (1931) (Inside jacket claims this is Milne\\'s first attempt at a novel.)\\nFour Days\\' Wonder (1933)\\nChloe Marr (1946)\\n\\n\\n=== Non-fiction ===\\nPeace With Honour (1934)\\nIt\\'s Too Late Now: The Autobiography of a Writer (1939)\\nWar With Honour (1940)\\nWar Aims Unlimited (1941)\\nYear In, Year Out (1952) (illustrated by E. H. Shepard)\\n\\n\\n==== Punch articles ====\\nThe Day\\'s Play (1910)\\nThe Holiday Round (1912)\\nOnce a Week (1914)\\nThe Sunny Side (1921)\\nThose Were the Days (1929) [The four volumes above, compiled]\\n\\n\\n=== Newspaper articles and book introductions ===\\nThe Chronicles of Clovis by \"Saki\" (1911) [Introduction to]\\nNot That It Matters (1919)\\nIf I May (1920)\\nBy Way of Introduction (1929)\\nIt Depends on the Book (1943, in September issue of Red Cross Newspaper The Prisoner of War)\\n\\n\\n=== Story collections for children ===\\nA Gallery of Children (1925)\\nWinnie-the-Pooh (1926) (illustrated by Ernest H. Shepard)\\nThe House at Pooh Corner (1928) (illustrated by E. H. Shepard)\\nShort Stories\\n\\n\\n=== Poetry collections for children ===\\nWhen We Were Very Young (1924) (illustrated by E. H. Shepard)\\nNow We Are Six (1927) (illustrated by E. H. Shepard)\\n\\n\\n=== Story collections ===\\nThe Secret and other stories (1929)\\nThe Birthday Party (1948)\\nA Table Near the Band (1950)\\n\\n\\n=== Poetry ===\\nFor the Luncheon Interval (1925) [poems from Punch]\\nWhen We Were Very Young (1924) (illustrated by E. H. Shepard)\\nNow We Are Six (1927) (illustrated by E. H. Shepard)\\nBehind the Lines (1940)\\nThe Norman Church (1948)\\n\\n\\n=== Screenplays and plays ===\\nWurzel-Flummery (1917)\\nBelinda (1918)\\nThe Boy Comes Home (1918)\\nMake-Believe (1918) (children\\'s play)\\nThe Camberley Triangle (1919)\\nMr. Pim Passes By (1919)\\nThe Red Feathers (1920)\\nThe Romantic Age (1920)\\nThe Stepmother (1920)\\nThe Truth about Blayds (1920)\\nThe Bump (1920, Minerva Films), starring Aubrey Smith\\nTwice Two (1920, Minerva Films)\\nFive Pound Reward (1920, Minerva Films)\\nBookworms (1920, Minerva Films)\\nThe Great Broxopp (1921)\\nThe Dover Road (1921)\\nThe Lucky One (1922)\\nThe Truth About Blayds (1922)\\nThe Artist: A Duologue (1923)\\nGive Me Yesterday (1923) (a.k.a. Success in the UK)\\nAriadne (1924)\\nThe Man in the Bowler Hat: A Terribly Exciting Affair (1924)\\nTo Have the Honour (1924)\\nPortrait of a Gentleman in Slippers (1926)\\nSuccess (1926)\\nMiss Marlow at Play (1927)\\nThe Fourth Wall or The Perfect Alibi (1928) (later adapted for the film Birds of Prey (1930), directed by Basil Dean)\\nThe Ivory Door (1929)\\nToad of Toad Hall (1929) (adaptation of The Wind in the Willows)\\nMichael and Mary (1930)\\nOther People\\'s Lives (1933) (a.k.a. They Don\\'t Mean Any Harm)\\nMiss Elizabeth Bennet (1936) [based on Pride and Prejudice]\\nSarah Simple (1937)\\nGentleman Unknown (1938)\\nThe General Takes Off His Helmet (1939) in The Queen\\'s Book of the Red Cross\\nThe Ugly Duckling (1941)\\nBefore the Flood (1951).\\n\\n\\n== References ==\\n\\n\\n== Further reading ==\\nThwaite, Ann. A.A. Milne: His Life. London: Faber and Faber, 1990. ISBN 0571138888\\nToby, Marlene. A.A. Milne, Author of Winnie-the-Pooh. Chicago: Children\\'s Press, 1995. ISBN 051604270X\\nWullschläger, Jackie (2001) [1995]. Inventing Wonderland: The Lives of Lewis Carroll, Edward Lear, J. M. Barrie, Kenneth Grahame, and A. A. Milne. London: Methuen. ISBN 978-0-413-70330-9.\\n\\n\\n== External links ==\\n\\nA. A. Milne Papers at the Harry Ransom Center\\nWorks by A. A. Milne at Project Gutenberg\\nWorks by A. A. Milne at Faded Page (Canada)\\nWorks by A. A. Milne at BiblioWiki (Canada) includes the complete text of the four Pooh books\\nWorks by or about A. A. Milne at Internet Archive\\nWorks by A. A. Milne at LibriVox (public domain audiobooks) \\nPortraits of A. A. Milne in the National Portrait Gallery\\nEssays by Milne at Quotidiana.org\\nMilne extract in The Guardian\\nProfile at Just-Pooh.com\\nA. A. Milne at poeticous.com\\nA. A. Milne on IMDb \\nAA Milne | Books | The Guardian'"
      ]
     },
     "execution_count": 26,
     "metadata": {},
     "output_type": "execute_result"
    }
   ],
   "source": []
  },
  {
   "cell_type": "code",
   "execution_count": null,
   "metadata": {},
   "outputs": [],
   "source": []
  }
 ],
 "metadata": {
  "kernelspec": {
   "display_name": "Python 3",
   "language": "python",
   "name": "python3"
  },
  "language_info": {
   "codemirror_mode": {
    "name": "ipython",
    "version": 3
   },
   "file_extension": ".py",
   "mimetype": "text/x-python",
   "name": "python",
   "nbconvert_exporter": "python",
   "pygments_lexer": "ipython3",
   "version": "3.6.4"
  }
 },
 "nbformat": 4,
 "nbformat_minor": 2
}

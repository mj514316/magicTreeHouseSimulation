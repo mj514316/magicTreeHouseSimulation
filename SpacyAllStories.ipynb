{
 "cells": [
  {
   "cell_type": "code",
   "execution_count": 1,
   "metadata": {},
   "outputs": [],
   "source": [
    "import spacy\n",
    "import json\n",
    "from collections import Counter\n",
    "import pandas as pd\n",
    "import numpy as np\n",
    "from spacy.pipeline import Pipe\n",
    "import itertools"
   ]
  },
  {
   "cell_type": "markdown",
   "metadata": {},
   "source": [
    "## Load Spacy and Documents\n",
    "I'm loading from the actual location of the model, used this as a workaround to symbolic link problems."
   ]
  },
  {
   "cell_type": "code",
   "execution_count": 2,
   "metadata": {},
   "outputs": [],
   "source": [
    "nlp = spacy.load('C:/Users/mj514/Anaconda3/lib/site-packages/en_core_web_lg/en_core_web_lg-2.0.0')"
   ]
  },
  {
   "cell_type": "code",
   "execution_count": 3,
   "metadata": {},
   "outputs": [
    {
     "data": {
      "text/plain": [
       "'After the First Death (1979) is a suspense novel for young adults by American author Robert Cormier. The focus is on the complex relationships that develop between the various characters. The novel takes the name from the poem, \"A Refusal to Mourn the Death, by Fire, of a Child in London\" by Dylan Thomas. It originates from the last line: \"After the first death, there is no other.\"\\n\\n\\n== Synopsis ==\\nAfter the First Death describes the terrorist hijacking of a summer camp bus full of children. The main characters include Kate, a high school student driving the bus, Miro, one of the terrorists, and Ben, the son of a general holding a senior position in \"Inner Delta\"; a government anti-terrorism organisation. The story is mostly written from the points-of-view of Kate, Miro, and Ben, switching back and forth, and brief sections are told from the point of view of some other characters.\\nKate is driving the bus when it is hijacked by four terrorists, Miro, Artkin, Antibbe and Stroll. The terrorists force Kate to drive the bus to an old, worn-down railroad bridge, where a drawn-out siege begins, the terrorists threatening to kill children if any attempt is made to attack them. In return for the freeing of the hostages the hijackers demand the release of prisoners, payment of ten million dollars and the dismantling of \"Inner Delta\".  The terrorists are working to \"free\" their homeland, which is never named specifically, but which can be assumed from their descriptions to be a Middle Eastern country.\\n\\n\\n== Themes ==\\nCourage and fear, patriotism and parent/child relationships.\\n\\n\\n== Plot ==\\nOdd Chapters!\\nThe first narrator, Ben Marchand, is a teenager who is the son of a general commanding an anti-terrorism unit. At the commencement of the novel he is waiting in his room at Castle, his boarding school, for his mother and father to arrive. Reference is made to his having been shot in an incident on a bridge. This is the event explored in the even numbered chapters.\\nThe perspective switches from Ben to his father, General Mark Marchand, who left his son\\'s room after a brief conversation and came back to find it empty. The general reflects on how he volunteered Ben to deliver a message to the terrorists on the bus. Ben is subsequently wounded and much later, believing himself a coward, commits suicide from another bridge - after the first \"death\" of the title.\\nThe last odd-numbered chapter consists of apparent conversations between Ben and his father, which reveal that the boy is already dead. The general attempts to call back Ben in order to ask for  forgiveness for making use of his sensitive son\\'s perceived vulnerability when used as a go-between with the terrorists. They are not actually in Castle but in a mental hospital where the general, broken by guilt, is now apparently a patient.\\nEven Chapters!\\nMiro is a Middle Eastern terrorist who is also a teenager. He and three other terrorists, Artkin, Antibbe and Stroll hijack a bus full of preschoolers on a trip to school camp. Miro is assigned to kill the driver of the bus, unexpectedly a teenage girl substituting for her uncle.\\nArtkin starts handing candies laced with sedatives to the children, knocking them unconscious. One child is killed by the drugs, most likely of an overdose or heart condition. Because of this, Artkin orders Miro not to kill the bus driver right away so that she can calm the children on the bus.\\nThe bus arrives at the bridge. Miro explains to the driver, Kate, that he participated in the hijacking in the belief that this would assist in freeing his homeland. Kate, stunned by the savagery shown when one of the terrorists dances holding the dead child above his head, is determined to escape. She prepares to make use of Raymond, a child who has not taken the candy, and of the keys to the bus.\\nKate attempts to drive the bus away from the bridge but the engine suddenly stalls. Its occupants are forced to spend the night on the bridge, now surrounded by police and troops.\\nThe next morning, it is reported that ransom payments are commencing. However, the terrorists still demand evidence of the capture of Sedeete, the leader of their group.\\nA few minutes afterwards, Antibbe is shot by a military sniper acting on reflex. The terrorists kill the boy Raymond in retaliation. Ben Marchand is sent with a stone from their homeland as proof of Sedeete\\'s capture. Ben is briefly tortured and gives the terrorists misleading information as to the timing of a planned rescue attempt, which his father had deliberately passed to him. Soldiers attack the bus and free the surviving children. They kill Artkin and Ben is wounded in the cross-fire.\\nIn the confusion of the assault Miro escapes through the military cordon, forcing Kate to accompany him. Kate tries to convince Miro that Artkin was his father. The confused Miro does not believe this and shoots Kate, believing that she had been manipulating him. The girl dies thinking that her family would not know that she had been brave. Miro moves out to kill a passing motorist and make good his escape.\\n\\n\\n== References =='"
      ]
     },
     "execution_count": 3,
     "metadata": {},
     "output_type": "execute_result"
    }
   ],
   "source": [
    "with open('childrensAuthorContent.json') as infile:\n",
    "    pages = json.load(infile)\n",
    "pages[10]"
   ]
  },
  {
   "cell_type": "code",
   "execution_count": 4,
   "metadata": {},
   "outputs": [],
   "source": [
    "texts  = pages#[0:50] #Use this to test on fewer pages"
   ]
  },
  {
   "cell_type": "markdown",
   "metadata": {},
   "source": [
    "## Test Out Spacy's Pipe Feature\n",
    "This dataset isn't a great example of the pipe feature because it only has 700 documents. I'll run some more tests on more documents. Roughly, you can see that there isn't always a speed up with more threads (fastest in this test was 4 threads). I suspect this could change with much larger documents, but see the tests and the time below."
   ]
  },
  {
   "cell_type": "code",
   "execution_count": 39,
   "metadata": {},
   "outputs": [
    {
     "name": "stdout",
     "output_type": "stream",
     "text": [
      "Wall time: 8min 47s\n"
     ]
    }
   ],
   "source": [
    "%%time\n",
    "\n",
    "toks = []\n",
    "for doc in nlp.pipe(texts, n_threads=16, batch_size=50):\n",
    "    toks.append([tok.lemma_ for tok in doc if tok.pos_ == 'NOUN'])"
   ]
  },
  {
   "cell_type": "code",
   "execution_count": 40,
   "metadata": {},
   "outputs": [
    {
     "name": "stdout",
     "output_type": "stream",
     "text": [
      "Wall time: 8min 20s\n"
     ]
    }
   ],
   "source": [
    "%%time\n",
    "toks = []\n",
    "for doc in nlp.pipe(texts, n_threads=16, batch_size=100):\n",
    "    toks.append([tok.lemma_ for tok in doc if tok.pos_ == 'NOUN'])"
   ]
  },
  {
   "cell_type": "code",
   "execution_count": 41,
   "metadata": {},
   "outputs": [
    {
     "name": "stdout",
     "output_type": "stream",
     "text": [
      "Wall time: 8min 26s\n"
     ]
    }
   ],
   "source": [
    "%%time\n",
    "toks = []\n",
    "for doc in nlp.pipe(texts, n_threads=16, batch_size=1000):\n",
    "    toks.append([tok.lemma_ for tok in doc if tok.pos_ == 'NOUN'])"
   ]
  },
  {
   "cell_type": "code",
   "execution_count": 42,
   "metadata": {},
   "outputs": [
    {
     "name": "stdout",
     "output_type": "stream",
     "text": [
      "Wall time: 8min 38s\n"
     ]
    }
   ],
   "source": [
    "%%time\n",
    "toks = []\n",
    "for doc in nlp.pipe(texts, n_threads=16, batch_size=10):\n",
    "    toks.append([tok.lemma_ for tok in doc if tok.pos_ == 'NOUN'])"
   ]
  },
  {
   "cell_type": "code",
   "execution_count": 43,
   "metadata": {},
   "outputs": [
    {
     "name": "stdout",
     "output_type": "stream",
     "text": [
      "Wall time: 8min 17s\n"
     ]
    }
   ],
   "source": [
    "%%time\n",
    "toks = []\n",
    "for doc in nlp.pipe(texts, n_threads=4, batch_size=1000):\n",
    "    toks.append([tok.lemma_ for tok in doc if tok.pos_ == 'NOUN'])"
   ]
  },
  {
   "cell_type": "code",
   "execution_count": 44,
   "metadata": {},
   "outputs": [
    {
     "name": "stdout",
     "output_type": "stream",
     "text": [
      "Wall time: 8min 32s\n"
     ]
    }
   ],
   "source": [
    "%%time\n",
    "toks = []\n",
    "for doc in nlp.pipe(texts, n_threads=2, batch_size=1000):\n",
    "    toks.append([tok.lemma_ for tok in doc if tok.pos_ == 'NOUN'])"
   ]
  },
  {
   "cell_type": "markdown",
   "metadata": {},
   "source": [
    "## Parse All Documents\n",
    "This step gathers a list of lists corresponding to the nouns and people that are in each document. Here I used the tag to find our nouns instead of the POS because the tag is slightly more specific. In some cases 'what' and 'who' are considered nouns and this eliminates them"
   ]
  },
  {
   "cell_type": "code",
   "execution_count": 5,
   "metadata": {},
   "outputs": [
    {
     "name": "stdout",
     "output_type": "stream",
     "text": [
      "Wall time: 9min 1s\n"
     ]
    }
   ],
   "source": [
    "%%time\n",
    "nounLists = []\n",
    "peopleLists = []\n",
    "for doc in nlp.pipe(texts, n_threads=16, batch_size=1000):\n",
    "    nounLists.append([tok.lemma_.lower() for tok in doc if tok.tag_ in ['NN','NNS']])\n",
    "    peopleLists.append([ent.merge().text.lower() for ent in doc.ents if ent.label_ == 'PERSON'])"
   ]
  },
  {
   "cell_type": "markdown",
   "metadata": {},
   "source": [
    "Collapse list of lists into one list:"
   ]
  },
  {
   "cell_type": "code",
   "execution_count": 6,
   "metadata": {},
   "outputs": [
    {
     "name": "stdout",
     "output_type": "stream",
     "text": [
      "Wall time: 248 ms\n"
     ]
    }
   ],
   "source": [
    "%%time\n",
    "#Apparently this is the fastest way to flatten a list of lists. https://stackoverflow.com/questions/952914/how-to-make-a-flat-list-out-of-list-of-lists\n",
    "nounList = list(itertools.chain.from_iterable(nounLists))\n",
    "peopleList = sum(peopleLists,[])"
   ]
  },
  {
   "cell_type": "markdown",
   "metadata": {},
   "source": [
    "## Remove Stop Words\n",
    "In this case, there are a bunch of nouns that we probably don't want to consider, and many of them are the most popular. We'll use a Counter to count the words and then peek at the top 10 to see if they should be removed."
   ]
  },
  {
   "cell_type": "code",
   "execution_count": 7,
   "metadata": {},
   "outputs": [
    {
     "name": "stdout",
     "output_type": "stream",
     "text": [
      "['book', 'child', 'year', 'story', 'work', 'time', '–', '=', 'century', 'series']\n"
     ]
    }
   ],
   "source": [
    "\n",
    "count = Counter(nounList)\n",
    "series = pd.Series(count, name='count')\n",
    "stopList = list(series.sort_values(ascending=False).head(10).index)\n",
    "print(stopList)"
   ]
  },
  {
   "cell_type": "code",
   "execution_count": 8,
   "metadata": {},
   "outputs": [
    {
     "name": "stdout",
     "output_type": "stream",
     "text": [
      "before stopping: 477525, after: 435139\n"
     ]
    }
   ],
   "source": [
    "stoppedNouns = [word for word in nounList if word not in stopList]\n",
    "print(f\"before stopping: {len(nounList)}, after: {len(stoppedNouns)}\")"
   ]
  },
  {
   "cell_type": "markdown",
   "metadata": {},
   "source": [
    "## Convert to Dataframes For 'tidy' Simulation\n",
    "This allows us to leverage the parralelization built into pandas to quickly do our simulation."
   ]
  },
  {
   "cell_type": "code",
   "execution_count": 9,
   "metadata": {},
   "outputs": [],
   "source": [
    "thingsDF  = pd.DataFrame({'thing': stoppedNouns})"
   ]
  },
  {
   "cell_type": "code",
   "execution_count": 10,
   "metadata": {},
   "outputs": [
    {
     "data": {
      "text/html": [
       "<div>\n",
       "<style scoped>\n",
       "    .dataframe tbody tr th:only-of-type {\n",
       "        vertical-align: middle;\n",
       "    }\n",
       "\n",
       "    .dataframe tbody tr th {\n",
       "        vertical-align: top;\n",
       "    }\n",
       "\n",
       "    .dataframe thead th {\n",
       "        text-align: right;\n",
       "    }\n",
       "</style>\n",
       "<table border=\"1\" class=\"dataframe\">\n",
       "  <thead>\n",
       "    <tr style=\"text-align: right;\">\n",
       "      <th></th>\n",
       "      <th>thing</th>\n",
       "    </tr>\n",
       "  </thead>\n",
       "  <tbody>\n",
       "    <tr>\n",
       "      <th>0</th>\n",
       "      <td>author</td>\n",
       "    </tr>\n",
       "    <tr>\n",
       "      <th>1</th>\n",
       "      <td>teddy</td>\n",
       "    </tr>\n",
       "    <tr>\n",
       "      <th>2</th>\n",
       "      <td>bear</td>\n",
       "    </tr>\n",
       "    <tr>\n",
       "      <th>3</th>\n",
       "      <td>poem</td>\n",
       "    </tr>\n",
       "    <tr>\n",
       "      <th>4</th>\n",
       "      <td>writer</td>\n",
       "    </tr>\n",
       "  </tbody>\n",
       "</table>\n",
       "</div>"
      ],
      "text/plain": [
       "    thing\n",
       "0  author\n",
       "1   teddy\n",
       "2    bear\n",
       "3    poem\n",
       "4  writer"
      ]
     },
     "execution_count": 10,
     "metadata": {},
     "output_type": "execute_result"
    }
   ],
   "source": [
    "thingsDF.head()"
   ]
  },
  {
   "cell_type": "code",
   "execution_count": 11,
   "metadata": {},
   "outputs": [],
   "source": [
    "peopleDF = pd.DataFrame({'name': peopleList})"
   ]
  },
  {
   "cell_type": "markdown",
   "metadata": {},
   "source": [
    "For this excercise we only want to consider english words and names. The following removes punctuation, then identifies the rows that contain non engish characters and removes them"
   ]
  },
  {
   "cell_type": "code",
   "execution_count": 12,
   "metadata": {},
   "outputs": [],
   "source": [
    "thingsDF = thingsDF[~(thingsDF.thing.str.replace('/p{P}+','',regex = True).str.contains('[^a-zA-Z]', regex = True))]\n",
    "peopleDF = peopleDF[~(peopleDF.name.str.replace('/p{P}+','',regex = True).str.contains('[^a-zA-Z]', regex = True))]"
   ]
  },
  {
   "cell_type": "code",
   "execution_count": 65,
   "metadata": {},
   "outputs": [
    {
     "data": {
      "text/html": [
       "<div>\n",
       "<style scoped>\n",
       "    .dataframe tbody tr th:only-of-type {\n",
       "        vertical-align: middle;\n",
       "    }\n",
       "\n",
       "    .dataframe tbody tr th {\n",
       "        vertical-align: top;\n",
       "    }\n",
       "\n",
       "    .dataframe thead th {\n",
       "        text-align: right;\n",
       "    }\n",
       "</style>\n",
       "<table border=\"1\" class=\"dataframe\">\n",
       "  <thead>\n",
       "    <tr style=\"text-align: right;\">\n",
       "      <th></th>\n",
       "      <th>thing</th>\n",
       "    </tr>\n",
       "  </thead>\n",
       "  <tbody>\n",
       "    <tr>\n",
       "      <th>0</th>\n",
       "      <td>author</td>\n",
       "    </tr>\n",
       "    <tr>\n",
       "      <th>1</th>\n",
       "      <td>teddy</td>\n",
       "    </tr>\n",
       "    <tr>\n",
       "      <th>2</th>\n",
       "      <td>bear</td>\n",
       "    </tr>\n",
       "    <tr>\n",
       "      <th>3</th>\n",
       "      <td>poem</td>\n",
       "    </tr>\n",
       "    <tr>\n",
       "      <th>4</th>\n",
       "      <td>writer</td>\n",
       "    </tr>\n",
       "    <tr>\n",
       "      <th>5</th>\n",
       "      <td>playwright</td>\n",
       "    </tr>\n",
       "    <tr>\n",
       "      <th>6</th>\n",
       "      <td>success</td>\n",
       "    </tr>\n",
       "    <tr>\n",
       "      <th>7</th>\n",
       "      <td>captain</td>\n",
       "    </tr>\n",
       "    <tr>\n",
       "      <th>8</th>\n",
       "      <td>parent</td>\n",
       "    </tr>\n",
       "    <tr>\n",
       "      <th>9</th>\n",
       "      <td>school</td>\n",
       "    </tr>\n",
       "    <tr>\n",
       "      <th>10</th>\n",
       "      <td>father</td>\n",
       "    </tr>\n",
       "    <tr>\n",
       "      <th>11</th>\n",
       "      <td>teacher</td>\n",
       "    </tr>\n",
       "    <tr>\n",
       "      <th>12</th>\n",
       "      <td>mathematics</td>\n",
       "    </tr>\n",
       "    <tr>\n",
       "      <th>13</th>\n",
       "      <td>scholarship</td>\n",
       "    </tr>\n",
       "    <tr>\n",
       "      <th>14</th>\n",
       "      <td>student</td>\n",
       "    </tr>\n",
       "    <tr>\n",
       "      <th>15</th>\n",
       "      <td>magazine</td>\n",
       "    </tr>\n",
       "    <tr>\n",
       "      <th>16</th>\n",
       "      <td>brother</td>\n",
       "    </tr>\n",
       "    <tr>\n",
       "      <th>17</th>\n",
       "      <td>article</td>\n",
       "    </tr>\n",
       "    <tr>\n",
       "      <th>18</th>\n",
       "      <td>initial</td>\n",
       "    </tr>\n",
       "    <tr>\n",
       "      <th>19</th>\n",
       "      <td>attention</td>\n",
       "    </tr>\n",
       "    <tr>\n",
       "      <th>20</th>\n",
       "      <td>humour</td>\n",
       "    </tr>\n",
       "    <tr>\n",
       "      <th>21</th>\n",
       "      <td>magazine</td>\n",
       "    </tr>\n",
       "    <tr>\n",
       "      <th>22</th>\n",
       "      <td>contributor</td>\n",
       "    </tr>\n",
       "    <tr>\n",
       "      <th>23</th>\n",
       "      <td>editor</td>\n",
       "    </tr>\n",
       "    <tr>\n",
       "      <th>24</th>\n",
       "      <td>cricket</td>\n",
       "    </tr>\n",
       "    <tr>\n",
       "      <th>25</th>\n",
       "      <td>team</td>\n",
       "    </tr>\n",
       "    <tr>\n",
       "      <th>26</th>\n",
       "      <td>author</td>\n",
       "    </tr>\n",
       "    <tr>\n",
       "      <th>27</th>\n",
       "      <td>officer</td>\n",
       "    </tr>\n",
       "    <tr>\n",
       "      <th>28</th>\n",
       "      <td>illness</td>\n",
       "    </tr>\n",
       "    <tr>\n",
       "      <th>29</th>\n",
       "      <td>lieutenant</td>\n",
       "    </tr>\n",
       "    <tr>\n",
       "      <th>...</th>\n",
       "      <td>...</td>\n",
       "    </tr>\n",
       "    <tr>\n",
       "      <th>435107</th>\n",
       "      <td>note</td>\n",
       "    </tr>\n",
       "    <tr>\n",
       "      <th>435108</th>\n",
       "      <td>translation</td>\n",
       "    </tr>\n",
       "    <tr>\n",
       "      <th>435109</th>\n",
       "      <td>glossary</td>\n",
       "    </tr>\n",
       "    <tr>\n",
       "      <th>435111</th>\n",
       "      <td>ed</td>\n",
       "    </tr>\n",
       "    <tr>\n",
       "      <th>435112</th>\n",
       "      <td>background</td>\n",
       "    </tr>\n",
       "    <tr>\n",
       "      <th>435113</th>\n",
       "      <td>ed</td>\n",
       "    </tr>\n",
       "    <tr>\n",
       "      <th>435114</th>\n",
       "      <td>life</td>\n",
       "    </tr>\n",
       "    <tr>\n",
       "      <th>435115</th>\n",
       "      <td>version</td>\n",
       "    </tr>\n",
       "    <tr>\n",
       "      <th>435116</th>\n",
       "      <td>preface</td>\n",
       "    </tr>\n",
       "    <tr>\n",
       "      <th>435117</th>\n",
       "      <td>preface</td>\n",
       "    </tr>\n",
       "    <tr>\n",
       "      <th>435118</th>\n",
       "      <td>translation</td>\n",
       "    </tr>\n",
       "    <tr>\n",
       "      <th>435119</th>\n",
       "      <td>ed</td>\n",
       "    </tr>\n",
       "    <tr>\n",
       "      <th>435120</th>\n",
       "      <td>supplement</td>\n",
       "    </tr>\n",
       "    <tr>\n",
       "      <th>435121</th>\n",
       "      <td>ed</td>\n",
       "    </tr>\n",
       "    <tr>\n",
       "      <th>435123</th>\n",
       "      <td>scan</td>\n",
       "    </tr>\n",
       "    <tr>\n",
       "      <th>435124</th>\n",
       "      <td>trans</td>\n",
       "    </tr>\n",
       "    <tr>\n",
       "      <th>435125</th>\n",
       "      <td>medievalms</td>\n",
       "    </tr>\n",
       "    <tr>\n",
       "      <th>435126</th>\n",
       "      <td>ed</td>\n",
       "    </tr>\n",
       "    <tr>\n",
       "      <th>435127</th>\n",
       "      <td>colloquy</td>\n",
       "    </tr>\n",
       "    <tr>\n",
       "      <th>435128</th>\n",
       "      <td>ed</td>\n",
       "    </tr>\n",
       "    <tr>\n",
       "      <th>435129</th>\n",
       "      <td>link</td>\n",
       "    </tr>\n",
       "    <tr>\n",
       "      <th>435130</th>\n",
       "      <td>text</td>\n",
       "    </tr>\n",
       "    <tr>\n",
       "      <th>435131</th>\n",
       "      <td>homily</td>\n",
       "    </tr>\n",
       "    <tr>\n",
       "      <th>435132</th>\n",
       "      <td>version</td>\n",
       "    </tr>\n",
       "    <tr>\n",
       "      <th>435133</th>\n",
       "      <td>life</td>\n",
       "    </tr>\n",
       "    <tr>\n",
       "      <th>435134</th>\n",
       "      <td>pg</td>\n",
       "    </tr>\n",
       "    <tr>\n",
       "      <th>435135</th>\n",
       "      <td>ff</td>\n",
       "    </tr>\n",
       "    <tr>\n",
       "      <th>435136</th>\n",
       "      <td>transcript</td>\n",
       "    </tr>\n",
       "    <tr>\n",
       "      <th>435137</th>\n",
       "      <td>letter</td>\n",
       "    </tr>\n",
       "    <tr>\n",
       "      <th>435138</th>\n",
       "      <td>link</td>\n",
       "    </tr>\n",
       "  </tbody>\n",
       "</table>\n",
       "<p>426953 rows × 1 columns</p>\n",
       "</div>"
      ],
      "text/plain": [
       "              thing\n",
       "0            author\n",
       "1             teddy\n",
       "2              bear\n",
       "3              poem\n",
       "4            writer\n",
       "5        playwright\n",
       "6           success\n",
       "7           captain\n",
       "8            parent\n",
       "9            school\n",
       "10           father\n",
       "11          teacher\n",
       "12      mathematics\n",
       "13      scholarship\n",
       "14          student\n",
       "15         magazine\n",
       "16          brother\n",
       "17          article\n",
       "18          initial\n",
       "19        attention\n",
       "20           humour\n",
       "21         magazine\n",
       "22      contributor\n",
       "23           editor\n",
       "24          cricket\n",
       "25             team\n",
       "26           author\n",
       "27          officer\n",
       "28          illness\n",
       "29       lieutenant\n",
       "...             ...\n",
       "435107         note\n",
       "435108  translation\n",
       "435109     glossary\n",
       "435111           ed\n",
       "435112   background\n",
       "435113           ed\n",
       "435114         life\n",
       "435115      version\n",
       "435116      preface\n",
       "435117      preface\n",
       "435118  translation\n",
       "435119           ed\n",
       "435120   supplement\n",
       "435121           ed\n",
       "435123         scan\n",
       "435124        trans\n",
       "435125   medievalms\n",
       "435126           ed\n",
       "435127     colloquy\n",
       "435128           ed\n",
       "435129         link\n",
       "435130         text\n",
       "435131       homily\n",
       "435132      version\n",
       "435133         life\n",
       "435134           pg\n",
       "435135           ff\n",
       "435136   transcript\n",
       "435137       letter\n",
       "435138         link\n",
       "\n",
       "[426953 rows x 1 columns]"
      ]
     },
     "execution_count": 65,
     "metadata": {},
     "output_type": "execute_result"
    }
   ],
   "source": [
    "thingsDF[~(thingsDF.thing.str.replace('/p{P}+','',regex = True).str.contains('[^a-zA-Z]', regex = True))]"
   ]
  },
  {
   "cell_type": "markdown",
   "metadata": {},
   "source": [
    "## Simulate\n",
    "First draw randomly with replacement from people and things. First draw from people to figure out friends name, then from things twice."
   ]
  },
  {
   "cell_type": "code",
   "execution_count": 24,
   "metadata": {},
   "outputs": [],
   "source": [
    "numSamples = 1000000\n",
    "sampledPeople = peopleDF.sample(n= numSamples, replace = True).reset_index(drop=True)\n",
    "sampledThings      = thingsDF.sample(n = numSamples, replace = True,).rename(columns ={'thing':'thing1'}).reset_index(drop=True)\n",
    "sampledThingsAgain = thingsDF.sample(n = numSamples, replace = True).rename(columns ={'thing':'thing2'}).reset_index(drop=True)\n",
    "fullSamples = pd.concat([sampledPeople,sampledThings,sampledThingsAgain], axis = 1)"
   ]
  },
  {
   "cell_type": "code",
   "execution_count": 25,
   "metadata": {},
   "outputs": [
    {
     "data": {
      "text/html": [
       "<div>\n",
       "<style scoped>\n",
       "    .dataframe tbody tr th:only-of-type {\n",
       "        vertical-align: middle;\n",
       "    }\n",
       "\n",
       "    .dataframe tbody tr th {\n",
       "        vertical-align: top;\n",
       "    }\n",
       "\n",
       "    .dataframe thead th {\n",
       "        text-align: right;\n",
       "    }\n",
       "</style>\n",
       "<table border=\"1\" class=\"dataframe\">\n",
       "  <thead>\n",
       "    <tr style=\"text-align: right;\">\n",
       "      <th></th>\n",
       "      <th>name</th>\n",
       "      <th>thing1</th>\n",
       "      <th>thing2</th>\n",
       "    </tr>\n",
       "  </thead>\n",
       "  <tbody>\n",
       "    <tr>\n",
       "      <th>0</th>\n",
       "      <td>sonderbundskrieg</td>\n",
       "      <td>interplay</td>\n",
       "      <td>family</td>\n",
       "    </tr>\n",
       "    <tr>\n",
       "      <th>1</th>\n",
       "      <td>schelde</td>\n",
       "      <td>matter</td>\n",
       "      <td>mother</td>\n",
       "    </tr>\n",
       "    <tr>\n",
       "      <th>2</th>\n",
       "      <td>joshua</td>\n",
       "      <td>man</td>\n",
       "      <td>classic</td>\n",
       "    </tr>\n",
       "    <tr>\n",
       "      <th>3</th>\n",
       "      <td>gandhi</td>\n",
       "      <td>edge</td>\n",
       "      <td>wimp</td>\n",
       "    </tr>\n",
       "    <tr>\n",
       "      <th>4</th>\n",
       "      <td>lewis</td>\n",
       "      <td>character</td>\n",
       "      <td>family</td>\n",
       "    </tr>\n",
       "  </tbody>\n",
       "</table>\n",
       "</div>"
      ],
      "text/plain": [
       "               name     thing1   thing2\n",
       "0  sonderbundskrieg  interplay   family\n",
       "1           schelde     matter   mother\n",
       "2            joshua        man  classic\n",
       "3            gandhi       edge     wimp\n",
       "4             lewis  character   family"
      ]
     },
     "execution_count": 25,
     "metadata": {},
     "output_type": "execute_result"
    }
   ],
   "source": [
    "fullSamples[['name','thing1','thing2']].head(5)"
   ]
  },
  {
   "cell_type": "code",
   "execution_count": 27,
   "metadata": {},
   "outputs": [
    {
     "data": {
      "text/plain": [
       "(1000000, 3)"
      ]
     },
     "execution_count": 27,
     "metadata": {},
     "output_type": "execute_result"
    }
   ],
   "source": [
    "fullSamples.shape"
   ]
  },
  {
   "cell_type": "markdown",
   "metadata": {},
   "source": [
    "Get starting letter, check if its the same accross all 3 columns"
   ]
  },
  {
   "cell_type": "code",
   "execution_count": 30,
   "metadata": {},
   "outputs": [],
   "source": [
    "fullSamples['first_name'] = fullSamples.name.str[:1].str.lower()\n",
    "fullSamples['first_thing1'] = fullSamples.thing1.str[:1].str.lower()\n",
    "fullSamples['first_thing2'] = fullSamples.thing2.str[:1].str.lower()\n",
    "fullSamples['isMagicMatch'] = ((fullSamples.first_name == fullSamples.first_thing1) & (fullSamples.first_name == fullSamples.first_thing2))\n",
    "fullSamples['isPartialMatch'] = ((fullSamples.first_name == fullSamples.first_thing1))"
   ]
  },
  {
   "cell_type": "markdown",
   "metadata": {},
   "source": [
    "Take the mean of the isMagicMatch column, change it to percentage"
   ]
  },
  {
   "cell_type": "code",
   "execution_count": 34,
   "metadata": {},
   "outputs": [
    {
     "name": "stdout",
     "output_type": "stream",
     "text": [
      "Our friend and our two objects start witht the same letter 0.392% of the time, which is 3.92 in 1000 simulations...\n",
      "Our friend is named Morgan and our two objects start with an M 0.321% of the time, which is 3.21 in 1000 simulations...\n",
      "Our friend and our first object starts with the same letter 5.269% of the time, which is 52.69 in 1000 simulations...\n"
     ]
    },
    {
     "data": {
      "text/plain": [
       "0.005689576695493855"
      ]
     },
     "execution_count": 34,
     "metadata": {},
     "output_type": "execute_result"
    }
   ],
   "source": [
    "magicPercentage  = np.mean(fullSamples.isMagicMatch)*100\n",
    "print(f\"Our friend and our two objects start witht the same letter {magicPercentage.round(3)}% of the time, which is {magicPercentage.round(3)*10} in 1000 simulations...\")\n",
    "magicPercentage  = np.mean(fullSamples[fullSamples['first_name']=='m'].isMagicMatch)*100\n",
    "print(f\"Our friend is named Morgan and our two objects start with an M {magicPercentage.round(3)}% of the time, which is {magicPercentage.round(3)*10} in 1000 simulations...\")\n",
    "magicPercentage  = np.mean(fullSamples.isPartialMatch)*100\n",
    "print(f\"Our friend and our first object starts with the same letter {magicPercentage.round(3)}% of the time, which is {magicPercentage.round(3)*10} in 1000 simulations...\")\n",
    "1/26**3*100"
   ]
  },
  {
   "cell_type": "code",
   "execution_count": 35,
   "metadata": {},
   "outputs": [
    {
     "data": {
      "text/html": [
       "<div>\n",
       "<style scoped>\n",
       "    .dataframe tbody tr th:only-of-type {\n",
       "        vertical-align: middle;\n",
       "    }\n",
       "\n",
       "    .dataframe tbody tr th {\n",
       "        vertical-align: top;\n",
       "    }\n",
       "\n",
       "    .dataframe thead th {\n",
       "        text-align: right;\n",
       "    }\n",
       "</style>\n",
       "<table border=\"1\" class=\"dataframe\">\n",
       "  <thead>\n",
       "    <tr style=\"text-align: right;\">\n",
       "      <th></th>\n",
       "      <th>name</th>\n",
       "      <th>thing1</th>\n",
       "      <th>thing2</th>\n",
       "    </tr>\n",
       "  </thead>\n",
       "  <tbody>\n",
       "    <tr>\n",
       "      <th>526</th>\n",
       "      <td>penguin</td>\n",
       "      <td>party</td>\n",
       "      <td>person</td>\n",
       "    </tr>\n",
       "    <tr>\n",
       "      <th>1367</th>\n",
       "      <td>page</td>\n",
       "      <td>production</td>\n",
       "      <td>protagonist</td>\n",
       "    </tr>\n",
       "    <tr>\n",
       "      <th>1374</th>\n",
       "      <td>clay</td>\n",
       "      <td>chorister</td>\n",
       "      <td>capacity</td>\n",
       "    </tr>\n",
       "    <tr>\n",
       "      <th>1669</th>\n",
       "      <td>pinocchio</td>\n",
       "      <td>printing</td>\n",
       "      <td>principle</td>\n",
       "    </tr>\n",
       "    <tr>\n",
       "      <th>1773</th>\n",
       "      <td>elementary</td>\n",
       "      <td>education</td>\n",
       "      <td>ed</td>\n",
       "    </tr>\n",
       "  </tbody>\n",
       "</table>\n",
       "</div>"
      ],
      "text/plain": [
       "            name      thing1       thing2\n",
       "526      penguin       party       person\n",
       "1367        page  production  protagonist\n",
       "1374        clay   chorister     capacity\n",
       "1669   pinocchio    printing    principle\n",
       "1773  elementary   education           ed"
      ]
     },
     "execution_count": 35,
     "metadata": {},
     "output_type": "execute_result"
    }
   ],
   "source": [
    "fullSamples[fullSamples.isMagicMatch][['name','thing1','thing2']].head()"
   ]
  },
  {
   "cell_type": "markdown",
   "metadata": {},
   "source": [
    "# End"
   ]
  },
  {
   "cell_type": "code",
   "execution_count": null,
   "metadata": {},
   "outputs": [],
   "source": []
  }
 ],
 "metadata": {
  "kernelspec": {
   "display_name": "Python 3",
   "language": "python",
   "name": "python3"
  },
  "language_info": {
   "codemirror_mode": {
    "name": "ipython",
    "version": 3
   },
   "file_extension": ".py",
   "mimetype": "text/x-python",
   "name": "python",
   "nbconvert_exporter": "python",
   "pygments_lexer": "ipython3",
   "version": "3.6.5"
  }
 },
 "nbformat": 4,
 "nbformat_minor": 2
}
